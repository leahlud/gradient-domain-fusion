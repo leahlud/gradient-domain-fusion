{
  "nbformat": 4,
  "nbformat_minor": 0,
  "metadata": {
    "kernelspec": {
      "display_name": "Python 3",
      "language": "python",
      "name": "python3"
    },
    "language_info": {
      "codemirror_mode": {
        "name": "ipython",
        "version": 3
      },
      "file_extension": ".py",
      "mimetype": "text/x-python",
      "name": "python",
      "nbconvert_exporter": "python",
      "pygments_lexer": "ipython3",
      "version": "3.7.6"
    },
    "colab": {
      "name": "Project3_starter.ipynb",
      "provenance": []
    }
  },
  "cells": [
    {
      "cell_type": "markdown",
      "metadata": {
        "id": "ElVnEzv62Ave",
        "colab_type": "text"
      },
      "source": [
        "## CS 445: Computational Photography\n",
        "\n",
        "## Programming Project #3: Gradient Domain Fusion"
      ]
    },
    {
      "cell_type": "code",
      "metadata": {
        "id": "zdP7nYtL_3An",
        "colab_type": "code",
        "colab": {}
      },
      "source": [
        "from google.colab import drive\n",
        "drive.mount('/content/drive')"
      ],
      "execution_count": null,
      "outputs": []
    },
    {
      "cell_type": "code",
      "metadata": {
        "id": "pOLU-kyM_gC2",
        "colab_type": "code",
        "colab": {}
      },
      "source": [
        "import cv2\n",
        "import numpy as np\n",
        "import matplotlib.pyplot as plt\n",
        "%matplotlib inline\n",
        "import os\n",
        "from random import random\n",
        "import time\n",
        "import scipy\n",
        "import scipy.sparse.linalg\n",
        "\n",
        "# modify to where you store your project data including utils.py\n",
        "datadir = \"/content/drive/My Drive/cs445_projects/proj3/\" \n",
        "\n",
        "utilfn = datadir + \"utils.py\"\n",
        "!cp \"$utilfn\" .\n",
        "samplesfn = datadir + \"samples\"\n",
        "!cp -r \"$samplesfn\" .\n",
        "import utils"
      ],
      "execution_count": null,
      "outputs": []
    },
    {
      "cell_type": "markdown",
      "metadata": {
        "id": "dXpYII_6_gC_",
        "colab_type": "text"
      },
      "source": [
        "## Part 1 Toy Problem (20 pts)"
      ]
    },
    {
      "cell_type": "code",
      "metadata": {
        "id": "y8FE0YVZ_gC_",
        "colab_type": "code",
        "colab": {}
      },
      "source": [
        "def toy_reconstruct(img):\n",
        "    \"\"\"\n",
        "    The implementation for gradient domain processing is not complicated, but it is easy to make a mistake, so let's start with a toy example. Reconstruct this image from its gradient values, plus one pixel intensity. Denote the intensity of the source image at (x, y) as s(x,y) and the value to solve for as v(x,y). For each pixel, then, we have two objectives:\n",
        "    1. minimize (v(x+1,y)-v(x,y) - (s(x+1,y)-s(x,y)))^2\n",
        "    2. minimize (v(x,y+1)-v(x,y) - (s(x,y+1)-s(x,y)))^2\n",
        "    Note that these could be solved while adding any constant value to v, so we will add one more objective:\n",
        "    3. minimize (v(1,1)-s(1,1))^2\n",
        "    \n",
        "    :param toy_img: numpy.ndarray\n",
        "    \"\"\"\n",
        "    \n",
        "    # TO DO\n",
        "\n"
      ],
      "execution_count": null,
      "outputs": []
    },
    {
      "cell_type": "code",
      "metadata": {
        "id": "slIIs0MM_gDC",
        "colab_type": "code",
        "colab": {}
      },
      "source": [
        "toy_img = cv2.cvtColor(cv2.imread('samples/toy_problem.png'), cv2.COLOR_BGR2GRAY).astype('double') / 255.0\n",
        "plt.imshow(toy_img, cmap=\"gray\")\n",
        "plt.show()\n",
        "\n",
        "im_out = toy_reconstruct(toy_img)\n",
        "plt.imshow(im_out, cmap=\"gray\")\n",
        "plt.show()\n",
        "print(\"Max error is: \", np.sqrt(((im_out - toy_img)**2).max()))"
      ],
      "execution_count": null,
      "outputs": []
    },
    {
      "cell_type": "markdown",
      "metadata": {
        "id": "UbSv6Go2_gDF",
        "colab_type": "text"
      },
      "source": [
        "## Preparation"
      ]
    },
    {
      "cell_type": "code",
      "metadata": {
        "id": "QDKoD4vn_gDG",
        "colab_type": "code",
        "colab": {}
      },
      "source": [
        "background_img = cv2.cvtColor(cv2.imread('samples/im2.JPG'), cv2.COLOR_BGR2RGB).astype('double') / 255.0 \n",
        "plt.figure()\n",
        "plt.imshow(background_img)\n",
        "plt.show()\n",
        "object_img = cv2.cvtColor(cv2.imread('samples/penguin-chick.jpeg'), cv2.COLOR_BGR2RGB).astype('double') / 255.0 \n",
        "plt.imshow(object_img)\n",
        "plt.show()\n",
        "\n",
        "use_interface = False  # set to true if you want to use the interface to choose points (might not work in Colab)\n",
        "if not use_interface:\n",
        "  xs = (65, 359, 359, 65)\n",
        "  ys = (24, 24, 457, 457)\n",
        "  object_mask = utils.get_mask(ys, xs, object_img)\n",
        "  bottom_center = (500, 2500) # (x,y)\n",
        "\n",
        "  object_img, object_mask = utils.crop_object_img(object_img, object_mask)\n",
        "  bg_ul = utils.upper_left_background_rc(object_mask, bottom_center)\n",
        "  plt.imshow(utils.get_combined_img(background_img, object_img, object_mask, bg_ul))\n",
        "\n"
      ],
      "execution_count": null,
      "outputs": []
    },
    {
      "cell_type": "code",
      "metadata": {
        "id": "C1kVMEwm_gDK",
        "colab_type": "code",
        "colab": {}
      },
      "source": [
        "if use_interface:\n",
        "  import matplotlib.pyplot as plt\n",
        "  %matplotlib notebook\n",
        "  mask_coords = specify_mask(object_img)"
      ],
      "execution_count": null,
      "outputs": []
    },
    {
      "cell_type": "code",
      "metadata": {
        "id": "6y8QLIsb_gDN",
        "colab_type": "code",
        "colab": {}
      },
      "source": [
        "if use_interface:\n",
        "  xs = mask_coords[0]\n",
        "  ys = mask_coords[1]\n",
        "  %matplotlib inline\n",
        "  import matplotlib.pyplot as plt\n",
        "  plt.figure()\n",
        "  object_mask = get_mask(ys, xs, object_img)"
      ],
      "execution_count": null,
      "outputs": []
    },
    {
      "cell_type": "code",
      "metadata": {
        "id": "EhzUyEbo_gDR",
        "colab_type": "code",
        "colab": {}
      },
      "source": [
        "if use_interface:\n",
        "  %matplotlib notebook\n",
        "  import matplotlib.pyplot as plt\n",
        "  bottom_center = specify_bottom_center(background_img)\n",
        "  %matplotlib inline\n",
        "  import matplotlib.pyplot as plt\n",
        "\n",
        "  object_img, object_mask = utils.crop_object_img(object_img, object_mask)\n",
        "  bg_ul = utils.upper_left_background_rc(object_mask, bottom_center)\n",
        "  plt.imshow(utils.get_combined_img(background_img, object_img, object_mask, bg_ul))\n",
        "\n"
      ],
      "execution_count": null,
      "outputs": []
    },
    {
      "cell_type": "markdown",
      "metadata": {
        "id": "yJQzZk0H_gDX",
        "colab_type": "text"
      },
      "source": [
        "## Part 2 Poisson Blending (50 pts)"
      ]
    },
    {
      "cell_type": "code",
      "metadata": {
        "id": "pEndGgUf_gDX",
        "colab_type": "code",
        "colab": {}
      },
      "source": [
        "def poisson_blend(object_img, object_mask, bg_img, bg_ul):\n",
        "    \"\"\"\n",
        "    Returns a Poisson blended image with masked object_img over the bg_img at position specified by bg_ul.\n",
        "    Can be implemented to operate on a single channel or multiple channels\n",
        "    :param object_img: the image containing the foreground object\n",
        "    :param object_mask: the mask of the foreground object in object_img\n",
        "    :param background_img: the background image \n",
        "    :param bg_ul: position (row, col) in background image corresponding to (0,0) of object_img \n",
        "    \"\"\"\n",
        "    #TO DO \n",
        "\n"
      ],
      "execution_count": null,
      "outputs": []
    },
    {
      "cell_type": "code",
      "metadata": {
        "id": "BgUuBmx7_gDb",
        "colab_type": "code",
        "colab": {}
      },
      "source": [
        "im_blend = np.zeros(background_img.shape)\n",
        "for b in np.arange(3):\n",
        "  im_blend[:,:,b] = poisson_blend(object_img[:,:,b], object_mask, background_img[:,:,b].copy(), bg_ul)\n",
        "\n",
        "plt.figure(figsize=(15,15))\n",
        "plt.imshow(im_blend)"
      ],
      "execution_count": null,
      "outputs": []
    },
    {
      "cell_type": "markdown",
      "metadata": {
        "id": "WZEEYHqz_gDg",
        "colab_type": "text"
      },
      "source": [
        "## Part 3 Mixed Gradients (20 pts)"
      ]
    },
    {
      "cell_type": "code",
      "metadata": {
        "id": "0gt3vbHp_gDh",
        "colab_type": "code",
        "colab": {}
      },
      "source": [
        "def mixed_blend(object_img, object_mask, bg_img, bg_ul):\n",
        "    \"\"\"\n",
        "    Returns a mixed gradient blended image with masked object_img over the bg_img at position specified by bg_ul.\n",
        "    Can be implemented to operate on a single channel or multiple channels\n",
        "    :param object_img: the image containing the foreground object\n",
        "    :param object_mask: the mask of the foreground object in object_img\n",
        "    :param background_img: the background image \n",
        "    :param bg_ul: position (row, col) in background image corresponding to (0,0) of object_img \n",
        "    \"\"\"\n",
        "    #TO DO \n",
        "\n"
      ],
      "execution_count": null,
      "outputs": []
    },
    {
      "cell_type": "code",
      "metadata": {
        "id": "S_oLT76r_gDl",
        "colab_type": "code",
        "colab": {}
      },
      "source": [
        "im_mix = np.zeros(background_img.shape)\n",
        "for b in np.arange(3):\n",
        "  im_mix[:,:,b] = mixed_blend(object_img[:,:,b], object_mask, background_img[:,:,b].copy(), bg_ul)\n",
        "\n",
        "plt.figure(figsize=(15,15))\n",
        "plt.imshow(im_mix)"
      ],
      "execution_count": null,
      "outputs": []
    },
    {
      "cell_type": "markdown",
      "metadata": {
        "id": "0NuTLiFF_gDq",
        "colab_type": "text"
      },
      "source": [
        "# Bells & Whistles (Extra Points)"
      ]
    },
    {
      "cell_type": "markdown",
      "metadata": {
        "id": "QL6p0D8l_gDq",
        "colab_type": "text"
      },
      "source": [
        "## Color2Gray (20 pts)"
      ]
    },
    {
      "cell_type": "code",
      "metadata": {
        "id": "lTxi1xtN_gDr",
        "colab_type": "code",
        "colab": {}
      },
      "source": [
        "def color2gray(img):\n",
        "    pass"
      ],
      "execution_count": null,
      "outputs": []
    },
    {
      "cell_type": "markdown",
      "metadata": {
        "id": "r8rlgMeK_gDv",
        "colab_type": "text"
      },
      "source": [
        "## Laplacian pyramid blending (20 pts)"
      ]
    },
    {
      "cell_type": "code",
      "metadata": {
        "id": "6H7pXy_I_gDv",
        "colab_type": "code",
        "colab": {}
      },
      "source": [
        "def laplacian_blend(object_img, object_mask, bg_img, bg_ul):\n",
        "  # feel free to change input parameters\n",
        "    pass"
      ],
      "execution_count": null,
      "outputs": []
    },
    {
      "cell_type": "markdown",
      "metadata": {
        "id": "hKesD6tx_gD1",
        "colab_type": "text"
      },
      "source": [
        "## More gradient domain processing (up to 20 pts)"
      ]
    },
    {
      "cell_type": "code",
      "metadata": {
        "id": "qtc7-V8S_gD1",
        "colab_type": "code",
        "colab": {}
      },
      "source": [
        ""
      ],
      "execution_count": null,
      "outputs": []
    }
  ]
}